{
 "cells": [
  {
   "cell_type": "markdown",
   "id": "ac1b4cfd",
   "metadata": {},
   "source": [
    "#                                                 Student Management"
   ]
  },
  {
   "cell_type": "code",
   "execution_count": 39,
   "id": "cde70f63",
   "metadata": {},
   "outputs": [],
   "source": [
    "std = []\n",
    "class Student:\n",
    "    name = \"\"\n",
    "    roll_no = 0\n",
    "    age = 0\n",
    "    grade = ''\n",
    "    batch = ''\n",
    "    \n",
    "    def __init__(this, name, age, roll_no, grade, batch):\n",
    "        this.name =  name\n",
    "        this.age = age\n",
    "        this.roll_no = roll_no\n",
    "        this.grade = grade\n",
    "        this.batch = batch\n",
    "        \n",
    "        \n",
    "    def display_details(this):\n",
    "        print(\"Name: \", this.name)\n",
    "        print(\"Age: \", this.age)\n",
    "        print(\"Roll_No.: \", this.roll_no)\n",
    "        print(\"Grade: \", this.grade)\n",
    "        print(\"Batch: \", this.batch, \"\\n\")\n",
    "        \n",
    "        \n",
    "    def search_student(this, roll):\n",
    "        for i in std:\n",
    "            if len(std)==0:\n",
    "                print(\"Student Details are EMPTY\")\n",
    "                break\n",
    "            if(i.roll_no==roll):\n",
    "                print(\"Details of roll number \", roll, \" are: \")\n",
    "                i.display_details()\n",
    "                return i.roll_no\n",
    "        print(\"Roll no. \", roll,\" doesn't exist\")\n",
    "        return 0\n",
    "    \n",
    "         \n",
    "    def delete_student(this, roll):\n",
    "        idx = 0\n",
    "        for i in std:\n",
    "            if i.roll_no==roll:\n",
    "                del std[idx]\n",
    "                print(\"Roll Number \", roll, \" DELETED\")\n",
    "                break\n",
    "            idx=idx+1\n",
    "        "
   ]
  },
  {
   "cell_type": "code",
   "execution_count": null,
   "id": "cddce91d",
   "metadata": {},
   "outputs": [],
   "source": []
  },
  {
   "cell_type": "code",
   "execution_count": 1,
   "id": "d29df870",
   "metadata": {},
   "outputs": [
    {
     "name": "stdout",
     "output_type": "stream",
     "text": [
      "\n",
      ".............................................................................................\n",
      "Enter  your choice from the following: \n",
      "1. Add Student \n",
      "2. Display Students \n",
      "3. Search Student \n",
      "4. Delete Student \n",
      "5. Halt Program\n"
     ]
    }
   ],
   "source": [
    "#Switch Statement:\n",
    "while 1:\n",
    "    print(\"\\n.............................................................................................\")\n",
    "    print(\"Enter  your choice from the following: \")\n",
    "    print(\"1. Add Student \\n2. Display Students \\n3. Search Student \\n4. Delete Student \\n5. Halt Program\")\n",
    "    choice = int(input(\"===========>> \"))\n",
    "    print(\".............................................................................................\")\n",
    "    \n",
    "\n",
    "    match choice:\n",
    "        case 1:\n",
    "            print(\"\\nFor a Student Enter: \")\n",
    "            name = input(\"Name: \")\n",
    "            age = int(input(\"Age: \"))\n",
    "            roll_no = int(input(\"Roll_No.: \"))\n",
    "            grade = input(\"Grade: \")\n",
    "            batch = input(\"Batch: \")\n",
    "            std.append(Student(name, age, roll_no, grade, batch))\n",
    "            \n",
    "        case 2:\n",
    "            if len(std)==0:\n",
    "                print(\"\\nStudent Details are EMPTY\\n\")\n",
    "                \n",
    "            else: \n",
    "                for i in range(0,len(std)):\n",
    "                    print(\"\\nDetails of Student \", i+1, \" are:\")\n",
    "                    std[i].display_details()\n",
    "            \n",
    "        case 3:\n",
    "            if len(std)==0:\n",
    "                print(\"\\nStudent Details are EMPTY\\n\")\n",
    "            else: \n",
    "                roll = int(input(\"\\nEnter Roll number: \"))\n",
    "                std[0].search_student(roll)\n",
    "            \n",
    "        case 4:\n",
    "            if len(std)==0:\n",
    "                print(\"\\nStudent Details are EMPTY\\n\")\n",
    "                \n",
    "            else: \n",
    "                roll=int(input(\"\\nEnter Roll Number of Student to be Deleted: \"))\n",
    "                x = std[0].search_student(roll)\n",
    "                if x!=0:\n",
    "                    std[0].delete_student(roll)\n",
    "        \n",
    "        case 5:\n",
    "            break\n",
    "            \n",
    "        case default:\n",
    "            print(\"\\nEnter Valid Choice!\")\n",
    "        \n"
   ]
  },
  {
   "cell_type": "code",
   "execution_count": null,
   "id": "b335ffa8",
   "metadata": {},
   "outputs": [],
   "source": []
  },
  {
   "cell_type": "code",
   "execution_count": null,
   "id": "c8f41226",
   "metadata": {},
   "outputs": [],
   "source": []
  }
 ],
 "metadata": {
  "kernelspec": {
   "display_name": "Python 3 (ipykernel)",
   "language": "python",
   "name": "python3"
  },
  "language_info": {
   "codemirror_mode": {
    "name": "ipython",
    "version": 3
   },
   "file_extension": ".py",
   "mimetype": "text/x-python",
   "name": "python",
   "nbconvert_exporter": "python",
   "pygments_lexer": "ipython3",
   "version": "3.11.2"
  }
 },
 "nbformat": 4,
 "nbformat_minor": 5
}
